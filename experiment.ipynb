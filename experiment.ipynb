{
 "cells": [
  {
   "cell_type": "code",
   "execution_count": 2,
   "metadata": {},
   "outputs": [],
   "source": [
    "from langchain_community.document_loaders import WebBaseLoader"
   ]
  },
  {
   "cell_type": "code",
   "execution_count": 55,
   "metadata": {},
   "outputs": [
    {
     "name": "stdout",
     "output_type": "stream",
     "text": [
      "Yeah !  found \n"
     ]
    }
   ],
   "source": [
    "# function to check if url is responsive\n",
    "from urllib.request import urlopen\n",
    "from urllib.error import *\n",
    " \n",
    "# try block to read URL\n",
    "try:\n",
    "    html = urlopen(\"https://colah.github.io/posts/2015-08-Understanding-LSTMs/\")\n",
    "     \n",
    "except HTTPError as e:\n",
    "    print(\"HTTP error\", e)\n",
    "     \n",
    "except URLError as e:\n",
    "    print(\"Opps ! Page not found!\", e)\n",
    " \n",
    "else:\n",
    "    print('Yeah !  found ')"
   ]
  },
  {
   "cell_type": "code",
   "execution_count": 51,
   "metadata": {},
   "outputs": [
    {
     "data": {
      "text/plain": [
       "<langchain_community.document_loaders.web_base.WebBaseLoader at 0x1680c3940>"
      ]
     },
     "execution_count": 51,
     "metadata": {},
     "output_type": "execute_result"
    }
   ],
   "source": [
    "## Load text from web\n",
    "loader = WebBaseLoader(\"https://colah.github.io/posts/2015-08-Understanding-LSTMs/\")\n",
    "loader"
   ]
  },
  {
   "cell_type": "code",
   "execution_count": 52,
   "metadata": {},
   "outputs": [
    {
     "data": {
      "text/plain": [
       "[Document(metadata={'source': 'https://colah.github.io/posts/2015-08-Understanding-LSTMs/', 'title': \"Understanding LSTM Networks -- colah's blog\", 'language': 'en'}, page_content=\"\\n\\n\\n\\n\\nUnderstanding LSTM Networks -- colah's blog\\n\\n\\n\\n\\n\\n\\n\\n\\n\\n\\n\\n\\n\\n\\n\\n\\n\\n\\n\\n\\n\\n\\n\\n\\n\\n\\n\\n\\n\\n\\nToggle navigation\\n\\n\\n\\n\\ncolah's blog\\n\\n\\n\\n\\n  Blog\\n  About\\n  Contact\\n\\n\\n\\n\\n\\n\\n\\n\\nUnderstanding LSTM Networks\\n\\nPosted on August 27, 2015\\n\\n\\n\\nRecurrent Neural Networks\\nHumans don’t start their thinking from scratch every second. As you read this essay, you understand each word based on your understanding of previous words. You don’t throw everything away and start thinking from scratch again. Your thoughts have persistence.\\nTraditional neural networks can’t do this, and it seems like a major shortcoming. For example, imagine you want to classify what kind of event is happening at every point in a movie. It’s unclear how a traditional neural network could use its reasoning about previous events in the film to inform later ones.\\nRecurrent neural networks address this issue. They are networks with loops in them, allowing information to persist.\\n\\n\\n\\n\\nRecurrent Neural Networks have loops.\\n\\nIn the above diagram, a chunk of neural network, \\\\(A\\\\), looks at some input \\\\(x_t\\\\) and outputs a value \\\\(h_t\\\\). A loop allows information to be passed from one step of the network to the next.\\nThese loops make recurrent neural networks seem kind of mysterious. However, if you think a bit more, it turns out that they aren’t all that different than a normal neural network. A recurrent neural network can be thought of as multiple copies of the same network, each passing a message to a successor. Consider what happens if we unroll the loop:\\n\\n\\n\\n\\nAn unrolled recurrent neural network.\\n\\nThis chain-like nature reveals that recurrent neural networks are intimately related to sequences and lists. They’re the natural architecture of neural network to use for such data.\\nAnd they certainly are used! In the last few years, there have been incredible success applying RNNs to a variety of problems: speech recognition, language modeling, translation, image captioning… The list goes on. I’ll leave discussion of the amazing feats one can achieve with RNNs to Andrej Karpathy’s excellent blog post, The Unreasonable Effectiveness of Recurrent Neural Networks. But they really are pretty amazing.\\nEssential to these successes is the use of “LSTMs,” a very special kind of recurrent neural network which works, for many tasks, much much better than the standard version. Almost all exciting results based on recurrent neural networks are achieved with them. It’s these LSTMs that this essay will explore.\\nThe Problem of Long-Term Dependencies\\nOne of the appeals of RNNs is the idea that they might be able to connect previous information to the present task, such as using previous video frames might inform the understanding of the present frame. If RNNs could do this, they’d be extremely useful. But can they? It depends.\\nSometimes, we only need to look at recent information to perform the present task. For example, consider a language model trying to predict the next word based on the previous ones. If we are trying to predict the last word in “the clouds are in the sky,” we don’t need any further context – it’s pretty obvious the next word is going to be sky. In such cases, where the gap between the relevant information and the place that it’s needed is small, RNNs can learn to use the past information.\\n\\n\\n\\nBut there are also cases where we need more context. Consider trying to predict the last word in the text “I grew up in France… I speak fluent French.” Recent information suggests that the next word is probably the name of a language, but if we want to narrow down which language, we need the context of France, from further back. It’s entirely possible for the gap between the relevant information and the point where it is needed to become very large.\\nUnfortunately, as that gap grows, RNNs become unable to learn to connect the information.\\n\\n\\n\\nIn theory, RNNs are absolutely capable of handling such “long-term dependencies.” A human could carefully pick parameters for them to solve toy problems of this form. Sadly, in practice, RNNs don’t seem to be able to learn them. The problem was explored in depth by Hochreiter (1991) [German] and Bengio, et al. (1994), who found some pretty fundamental reasons why it might be difficult.\\nThankfully, LSTMs don’t have this problem!\\nLSTM Networks\\nLong Short Term Memory networks – usually just called “LSTMs” – are a special kind of RNN, capable of learning long-term dependencies. They were introduced by Hochreiter & Schmidhuber (1997), and were refined and popularized by many people in following work.1 They work tremendously well on a large variety of problems, and are now widely used.\\nLSTMs are explicitly designed to avoid the long-term dependency problem. Remembering information for long periods of time is practically their default behavior, not something they struggle to learn!\\nAll recurrent neural networks have the form of a chain of repeating modules of neural network. In standard RNNs, this repeating module will have a very simple structure, such as a single tanh layer.\\n\\n\\n\\nThe repeating module in a standard RNN contains a single layer.\\n\\n\\nLSTMs also have this chain like structure, but the repeating module has a different structure. Instead of having a single neural network layer, there are four, interacting in a very special way.\\n\\n\\n\\nThe repeating module in an LSTM contains four interacting layers.\\n\\n\\nDon’t worry about the details of what’s going on. We’ll walk through the LSTM diagram step by step later. For now, let’s just try to get comfortable with the notation we’ll be using.\\n\\n\\n\\nIn the above diagram, each line carries an entire vector, from the output of one node to the inputs of others. The pink circles represent pointwise operations, like vector addition, while the yellow boxes are learned neural network layers. Lines merging denote concatenation, while a line forking denote its content being copied and the copies going to different locations. \\nThe Core Idea Behind LSTMs\\nThe key to LSTMs is the cell state, the horizontal line running through the top of the diagram.\\nThe cell state is kind of like a conveyor belt. It runs straight down the entire chain, with only some minor linear interactions. It’s very easy for information to just flow along it unchanged.\\n\\n\\n\\nThe LSTM does have the ability to remove or add information to the cell state, carefully regulated by structures called gates.\\nGates are a way to optionally let information through. They are composed out of a sigmoid neural net layer and a pointwise multiplication operation.\\n\\n\\n\\nThe sigmoid layer outputs numbers between zero and one, describing how much of each component should be let through. A value of zero means “let nothing through,” while a value of one means “let everything through!”\\nAn LSTM has three of these gates, to protect and control the cell state.\\nStep-by-Step LSTM Walk Through\\nThe first step in our LSTM is to decide what information we’re going to throw away from the cell state. This decision is made by a sigmoid layer called the “forget gate layer.” It looks at \\\\(h_{t-1}\\\\) and \\\\(x_t\\\\), and outputs a number between \\\\(0\\\\) and \\\\(1\\\\) for each number in the cell state \\\\(C_{t-1}\\\\). A \\\\(1\\\\) represents “completely keep this” while a \\\\(0\\\\) represents “completely get rid of this.”\\nLet’s go back to our example of a language model trying to predict the next word based on all the previous ones. In such a problem, the cell state might include the gender of the present subject, so that the correct pronouns can be used. When we see a new subject, we want to forget the gender of the old subject.\\n\\n\\n\\nThe next step is to decide what new information we’re going to store in the cell state. This has two parts. First, a sigmoid layer called the “input gate layer” decides which values we’ll update. Next, a tanh layer creates a vector of new candidate values, \\\\(\\\\tilde{C}_t\\\\), that could be added to the state. In the next step, we’ll combine these two to create an update to the state.\\nIn the example of our language model, we’d want to add the gender of the new subject to the cell state, to replace the old one we’re forgetting.\\n\\n\\n\\nIt’s now time to update the old cell state, \\\\(C_{t-1}\\\\), into the new cell state \\\\(C_t\\\\). The previous steps already decided what to do, we just need to actually do it.\\nWe multiply the old state by \\\\(f_t\\\\), forgetting the things we decided to forget earlier. Then we add \\\\(i_t*\\\\tilde{C}_t\\\\). This is the new candidate values, scaled by how much we decided to update each state value.\\nIn the case of the language model, this is where we’d actually drop the information about the old subject’s gender and add the new information, as we decided in the previous steps.\\n\\n\\n\\nFinally, we need to decide what we’re going to output. This output will be based on our cell state, but will be a filtered version. First, we run a sigmoid layer which decides what parts of the cell state we’re going to output. Then, we put the cell state through \\\\(\\\\tanh\\\\) (to push the values to be between \\\\(-1\\\\) and \\\\(1\\\\)) and multiply it by the output of the sigmoid gate, so that we only output the parts we decided to.\\nFor the language model example, since it just saw a subject, it might want to output information relevant to a verb, in case that’s what is coming next. For example, it might output whether the subject is singular or plural, so that we know what form a verb should be conjugated into if that’s what follows next.\\n\\n\\n\\nVariants on Long Short Term Memory\\nWhat I’ve described so far is a pretty normal LSTM. But not all LSTMs are the same as the above. In fact, it seems like almost every paper involving LSTMs uses a slightly different version. The differences are minor, but it’s worth mentioning some of them.\\nOne popular LSTM variant, introduced by Gers & Schmidhuber (2000), is adding “peephole connections.” This means that we let the gate layers look at the cell state.\\n\\n\\n\\nThe above diagram adds peepholes to all the gates, but many papers will give some peepholes and not others.\\nAnother variation is to use coupled forget and input gates. Instead of separately deciding what to forget and what we should add new information to, we make those decisions together. We only forget when we’re going to input something in its place. We only input new values to the state when we forget something older.\\n\\n\\n\\nA slightly more dramatic variation on the LSTM is the Gated Recurrent Unit, or GRU, introduced by Cho, et al. (2014). It combines the forget and input gates into a single “update gate.” It also merges the cell state and hidden state, and makes some other changes. The resulting model is simpler than standard LSTM models, and has been growing increasingly popular.\\n\\n\\n\\nThese are only a few of the most notable LSTM variants. There are lots of others, like Depth Gated RNNs by Yao, et al. (2015). There’s also some completely different approach to tackling long-term dependencies, like Clockwork RNNs by Koutnik, et al. (2014).\\nWhich of these variants is best? Do the differences matter? Greff, et al. (2015) do a nice comparison of popular variants, finding that they’re all about the same. Jozefowicz, et al. (2015) tested more than ten thousand RNN architectures, finding some that worked better than LSTMs on certain tasks.\\nConclusion\\nEarlier, I mentioned the remarkable results people are achieving with RNNs. Essentially all of these are achieved using LSTMs. They really work a lot better for most tasks!\\nWritten down as a set of equations, LSTMs look pretty intimidating. Hopefully, walking through them step by step in this essay has made them a bit more approachable.\\nLSTMs were a big step in what we can accomplish with RNNs. It’s natural to wonder: is there another big step? A common opinion among researchers is: “Yes! There is a next step and it’s attention!” The idea is to let every step of an RNN pick information to look at from some larger collection of information. For example, if you are using an RNN to create a caption describing an image, it might pick a part of the image to look at for every word it outputs. In fact, Xu, et al. (2015) do exactly this – it might be a fun starting point if you want to explore attention! There’s been a number of really exciting results using attention, and it seems like a lot more are around the corner…\\nAttention isn’t the only exciting thread in RNN research. For example, Grid LSTMs by Kalchbrenner, et al. (2015) seem extremely promising. Work using RNNs in generative models – such as Gregor, et al. (2015), Chung, et al. (2015), or Bayer & Osendorfer (2015)  – also seems very interesting. The last few years have been an exciting time for recurrent neural networks, and the coming ones promise to only be more so!\\nAcknowledgments\\nI’m grateful to a number of people for helping me better understand LSTMs, commenting on the visualizations, and providing feedback on this post.\\nI’m very grateful to my colleagues at Google for their helpful feedback, especially Oriol Vinyals, Greg Corrado, Jon Shlens, Luke Vilnis, and Ilya Sutskever. I’m also thankful to many other friends and colleagues for taking the time to help me, including Dario Amodei, and Jacob Steinhardt. I’m especially thankful to Kyunghyun Cho for extremely thoughtful correspondence about my diagrams.\\nBefore this post, I practiced explaining LSTMs during two seminar series I taught on neural networks. Thanks to everyone who participated in those for their patience with me, and for their feedback.\\n\\n\\n\\nIn addition to the original authors, a lot of people contributed to the modern LSTM. A non-comprehensive list is: Felix Gers, Fred Cummins, Santiago Fernandez, Justin Bayer, Daan Wierstra, Julian Togelius, Faustino Gomez, Matteo Gagliolo, and Alex Graves.↩\\n\\n\\n\\n\\n\\nMore Posts\\n\\n\\n\\nAttention and Augmented Recurrent Neural Networks\\nOn Distill\\n\\n\\n\\n\\n\\nConv Nets A Modular Perspective\\n\\n\\n\\n\\n\\nNeural Networks, Manifolds, and Topology\\n\\n\\n\\n\\n\\nDeep Learning, NLP, and Representations\\n\\n\\n\\n\\n\\n\\n\\n\\n\\n\\n\\n\\n\\n\\n\\n\\n\\n\\n                    Built by Oinkina with\\n                    Hakyll\\n                    using Bootstrap,\\n                    MathJax,\\n                    Disqus,\\n                    MathBox.js,\\n                    Highlight.js,\\n                    and Footnotes.js.\\n                \\n\\n\\n\\n\\n\\n\\n\\n\\n\\n\\nEnable JavaScript for footnotes, Disqus comments, and other cool stuff.\\n\\n\\n\")]"
      ]
     },
     "execution_count": 52,
     "metadata": {},
     "output_type": "execute_result"
    }
   ],
   "source": [
    "## convert to documents\n",
    "docs = loader.load()\n",
    "docs"
   ]
  },
  {
   "cell_type": "code",
   "execution_count": 53,
   "metadata": {},
   "outputs": [
    {
     "data": {
      "text/plain": [
       "[Document(metadata={'source': 'https://colah.github.io/posts/2015-08-Understanding-LSTMs/', 'title': \"Understanding LSTM Networks -- colah's blog\", 'language': 'en'}, page_content=\"\\n\\n\\n\\n\\nUnderstanding LSTM Networks -- colah's blog\\n\\n\\n\\n\\n\\n\\n\\n\\n\\n\\n\\n\\n\\n\\n\\n\\n\\n\\n\\n\\n\\n\\n\\n\\n\\n\\n\\n\\n\\n\\nToggle navigation\\n\\n\\n\\n\\ncolah's blog\\n\\n\\n\\n\\n  Blog\\n  About\\n  Contact\\n\\n\\n\\n\\n\\n\\n\\n\\nUnderstanding LSTM Networks\\n\\nPosted on August 27, 2015\\n\\n\\n\\nRecurrent Neural Networks\\nHumans don’t start their thinking from scratch every second. As you read this essay, you understand each word based on your understanding of previous words. You don’t throw everything away and start thinking from scratch again. Your thoughts have persistence.\\nTraditional neural networks can’t do this, and it seems like a major shortcoming. For example, imagine you want to classify what kind of event is happening at every point in a movie. It’s unclear how a traditional neural network could use its reasoning about previous events in the film to inform later ones.\\nRecurrent neural networks address this issue. They are networks with loops in them, allowing information to persist.\\n\\n\\n\\n\\nRecurrent Neural Networks have loops.\\n\\nIn the above diagram, a chunk of neural network, \\\\(A\\\\), looks at some input \\\\(x_t\\\\) and outputs a value \\\\(h_t\\\\). A loop allows information to be passed from one step of the network to the next.\\nThese loops make recurrent neural networks seem kind of mysterious. However, if you think a bit more, it turns out that they aren’t all that different than a normal neural network. A recurrent neural network can be thought of as multiple copies of the same network, each passing a message to a successor. Consider what happens if we unroll the loop:\\n\\n\\n\\n\\nAn unrolled recurrent neural network.\\n\\nThis chain-like nature reveals that recurrent neural networks are intimately related to sequences and lists. They’re the natural architecture of neural network to use for such data.\\nAnd they certainly are used! In the last few years, there have been incredible success applying RNNs to a variety of problems: speech recognition, language modeling, translation, image captioning… The list goes on. I’ll leave discussion of the amazing feats one can achieve with RNNs to Andrej Karpathy’s excellent blog post, The Unreasonable Effectiveness of Recurrent Neural Networks. But they really are pretty amazing.\\nEssential to these successes is the use of “LSTMs,” a very special kind of recurrent neural network which works, for many tasks, much much better than the standard version. Almost all exciting results based on recurrent neural networks are achieved with them. It’s these LSTMs that this essay will explore.\\nThe Problem of Long-Term Dependencies\\nOne of the appeals of RNNs is the idea that they might be able to connect previous information to the present task, such as using previous video frames might inform the understanding of the present frame. If RNNs could do this, they’d be extremely useful. But can they? It depends.\\nSometimes, we only need to look at recent information to perform the present task. For example, consider a language model trying to predict the next word based on the previous ones. If we are trying to predict the last word in “the clouds are in the sky,” we don’t need any further context – it’s pretty obvious the next word is going to be sky. In such cases, where the gap between the relevant information and the place that it’s needed is small, RNNs can learn to use the past information.\\n\\n\\n\\nBut there are also cases where we need more context. Consider trying to predict the last word in the text “I grew up in France… I speak fluent French.” Recent information suggests that the next word is probably the name of a language, but if we want to narrow down which language, we need the context of France, from further back. It’s entirely possible for the gap between the relevant information and the point where it is needed to become very large.\\nUnfortunately, as that gap grows, RNNs become unable to learn to connect the information.\\n\\n\\n\\nIn theory, RNNs are absolutely capable of handling such “long-term dependencies.” A human could carefully pick parameters for them to solve toy problems of this form. Sadly, in practice, RNNs don’t seem to be able to learn them. The problem was explored in depth by Hochreiter (1991) [German] and Bengio, et al. (1994), who found some pretty fundamental reasons why it might be difficult.\\nThankfully, LSTMs don’t have this problem!\\nLSTM Networks\\nLong Short Term Memory networks – usually just called “LSTMs” – are a special kind of RNN, capable of learning long-term dependencies. They were introduced by Hochreiter & Schmidhuber (1997), and were refined and popularized by many people in following work.1 They work tremendously well on a large variety of problems, and are now widely used.\\nLSTMs are explicitly designed to avoid the long-term dependency problem. Remembering information for long periods of time is practically their default behavior, not something they struggle to learn!\\nAll recurrent neural networks have the form of a chain of repeating modules of neural network. In standard RNNs, this repeating module will have a very simple structure, such as a single tanh layer.\\n\\n\\n\\nThe repeating module in a standard RNN contains a single layer.\\n\\n\\nLSTMs also have this chain like structure, but the repeating module has a different structure. Instead of having a single neural network layer, there are four, interacting in a very special way.\\n\\n\\n\\nThe repeating module in an LSTM contains four interacting layers.\\n\\n\\nDon’t worry about the details of what’s going on. We’ll walk through the LSTM diagram step by step later. For now, let’s just try to get comfortable with the notation we’ll be using.\\n\\n\\n\\nIn the above diagram, each line carries an entire vector, from the output of one node to the inputs of others. The pink circles represent pointwise operations, like vector addition, while the yellow boxes are learned neural network layers. Lines merging denote concatenation, while a line forking denote its content being copied and the copies going to different locations. \\nThe Core Idea Behind LSTMs\\nThe key to LSTMs is the cell state, the horizontal line running through the top of the diagram.\\nThe cell state is kind of like a conveyor belt. It runs straight down the entire chain, with only some minor linear interactions. It’s very easy for information to just flow along it unchanged.\\n\\n\\n\\nThe LSTM does have the ability to remove or add information to the cell state, carefully regulated by structures called gates.\\nGates are a way to optionally let information through. They are composed out of a sigmoid neural net layer and a pointwise multiplication operation.\\n\\n\\n\\nThe sigmoid layer outputs numbers between zero and one, describing how much of each component should be let through. A value of zero means “let nothing through,” while a value of one means “let everything through!”\\nAn LSTM has three of these gates, to protect and control the cell state.\\nStep-by-Step LSTM Walk Through\\nThe first step in our LSTM is to decide what information we’re going to throw away from the cell state. This decision is made by a sigmoid layer called the “forget gate layer.” It looks at \\\\(h_{t-1}\\\\) and \\\\(x_t\\\\), and outputs a number between \\\\(0\\\\) and \\\\(1\\\\) for each number in the cell state \\\\(C_{t-1}\\\\). A \\\\(1\\\\) represents “completely keep this” while a \\\\(0\\\\) represents “completely get rid of this.”\\nLet’s go back to our example of a language model trying to predict the next word based on all the previous ones. In such a problem, the cell state might include the gender of the present subject, so that the correct pronouns can be used. When we see a new subject, we want to forget the gender of the old subject.\\n\\n\\n\\nThe next step is to decide what new information we’re going to store in the cell state. This has two parts. First, a sigmoid layer called the “input gate layer” decides which values we’ll update. Next, a tanh layer creates a vector of new candidate values, \\\\(\\\\tilde{C}_t\\\\), that could be added to the state. In the next step, we’ll combine these two to create an update to the state.\\nIn the example of our language model, we’d want to add the gender of the new subject to the cell state, to replace the old one we’re forgetting.\\n\\n\\n\\nIt’s now time to update the old cell state, \\\\(C_{t-1}\\\\), into the new cell state \\\\(C_t\\\\). The previous steps already decided what to do, we just need to actually do it.\\nWe multiply the old state by \\\\(f_t\\\\), forgetting the things we decided to forget earlier. Then we add \\\\(i_t*\\\\tilde{C}_t\\\\). This is the new candidate values, scaled by how much we decided to update each state value.\\nIn the case of the language model, this is where we’d actually drop the information about the old subject’s gender and add the new information, as we decided in the previous steps.\\n\\n\\n\\nFinally, we need to decide what we’re going to output. This output will be based on our cell state, but will be a filtered version. First, we run a sigmoid layer which decides what parts of the cell state we’re going to output. Then, we put the cell state through \\\\(\\\\tanh\\\\) (to push the values to be between \\\\(-1\\\\) and \\\\(1\\\\)) and multiply it by the output of the sigmoid gate, so that we only output the parts we decided to.\\nFor the language model example, since it just saw a subject, it might want to output information relevant to a verb, in case that’s what is coming next. For example, it might output whether the subject is singular or plural, so that we know what form a verb should be conjugated into if that’s what follows next.\\n\\n\\n\\nVariants on Long Short Term Memory\\nWhat I’ve described so far is a pretty normal LSTM. But not all LSTMs are the same as the above. In fact, it seems like almost every paper involving LSTMs uses a slightly different version. The differences are minor, but it’s worth mentioning some of them.\\nOne popular LSTM variant, introduced by Gers & Schmidhuber (2000), is adding “peephole connections.” This means that we let the gate layers look at the cell state.\\n\\n\\n\\nThe above diagram adds peepholes to all the gates, but many papers will give some peepholes and not others.\\nAnother variation is to use coupled forget and input gates. Instead of separately deciding what to forget and what we should add new information to, we make those decisions together. We only forget when we’re going to input something in its place. We only input new values to the state when we forget something older.\\n\\n\\n\\nA slightly more dramatic variation on the LSTM is the Gated Recurrent Unit, or GRU, introduced by Cho, et al. (2014). It combines the forget and input gates into a single “update gate.” It also merges the cell state and hidden state, and makes some other changes. The resulting model is simpler than standard LSTM models, and has been growing increasingly popular.\\n\\n\\n\\nThese are only a few of the most notable LSTM variants. There are lots of others, like Depth Gated RNNs by Yao, et al. (2015). There’s also some completely different approach to tackling long-term dependencies, like Clockwork RNNs by Koutnik, et al. (2014).\\nWhich of these variants is best? Do the differences matter? Greff, et al. (2015) do a nice comparison of popular variants, finding that they’re all about the same. Jozefowicz, et al. (2015) tested more than ten thousand RNN architectures, finding some that worked better than LSTMs on certain tasks.\\nConclusion\\nEarlier, I mentioned the remarkable results people are achieving with RNNs. Essentially all of these are achieved using LSTMs. They really work a lot better for most tasks!\\nWritten down as a set of equations, LSTMs look pretty intimidating. Hopefully, walking through them step by step in this essay has made them a bit more approachable.\\nLSTMs were a big step in what we can accomplish with RNNs. It’s natural to wonder: is there another big step? A common opinion among researchers is: “Yes! There is a next step and it’s attention!” The idea is to let every step of an RNN pick information to look at from some larger collection of information. For example, if you are using an RNN to create a caption describing an image, it might pick a part of the image to look at for every word it outputs. In fact, Xu, et al. (2015) do exactly this – it might be a fun starting point if you want to explore attention! There’s been a number of really exciting results using attention, and it seems like a lot more are around the corner…\\nAttention isn’t the only exciting thread in RNN research. For example, Grid LSTMs by Kalchbrenner, et al. (2015) seem extremely promising. Work using RNNs in generative models – such as Gregor, et al. (2015), Chung, et al. (2015), or Bayer & Osendorfer (2015)  – also seems very interesting. The last few years have been an exciting time for recurrent neural networks, and the coming ones promise to only be more so!\\nAcknowledgments\\nI’m grateful to a number of people for helping me better understand LSTMs, commenting on the visualizations, and providing feedback on this post.\\nI’m very grateful to my colleagues at Google for their helpful feedback, especially Oriol Vinyals, Greg Corrado, Jon Shlens, Luke Vilnis, and Ilya Sutskever. I’m also thankful to many other friends and colleagues for taking the time to help me, including Dario Amodei, and Jacob Steinhardt. I’m especially thankful to Kyunghyun Cho for extremely thoughtful correspondence about my diagrams.\\nBefore this post, I practiced explaining LSTMs during two seminar series I taught on neural networks. Thanks to everyone who participated in those for their patience with me, and for their feedback.\\n\\n\\n\\nIn addition to the original authors, a lot of people contributed to the modern LSTM. A non-comprehensive list is: Felix Gers, Fred Cummins, Santiago Fernandez, Justin Bayer, Daan Wierstra, Julian Togelius, Faustino Gomez, Matteo Gagliolo, and Alex Graves.↩\\n\\n\\n\\n\\n\\nMore Posts\\n\\n\\n\\nAttention and Augmented Recurrent Neural Networks\\nOn Distill\\n\\n\\n\\n\\n\\nConv Nets A Modular Perspective\\n\\n\\n\\n\\n\\nNeural Networks, Manifolds, and Topology\\n\\n\\n\\n\\n\\nDeep Learning, NLP, and Representations\\n\\n\\n\\n\\n\\n\\n\\n\\n\\n\\n\\n\\n\\n\\n\\n\\n\\n\\n                    Built by Oinkina with\\n                    Hakyll\\n                    using Bootstrap,\\n                    MathJax,\\n                    Disqus,\\n                    MathBox.js,\\n                    Highlight.js,\\n                    and Footnotes.js.\\n                \\n\\n\\n\\n\\n\\n\\n\\n\\n\\n\\nEnable JavaScript for footnotes, Disqus comments, and other cool stuff.\\n\\n\\n\")]"
      ]
     },
     "execution_count": 53,
     "metadata": {},
     "output_type": "execute_result"
    }
   ],
   "source": [
    "docs"
   ]
  },
  {
   "cell_type": "code",
   "execution_count": 50,
   "metadata": {},
   "outputs": [
    {
     "data": {
      "text/plain": [
       "[Document(metadata={'source': 'https://colah.github.io/posts/2015-08-Understanding-LSTs/', 'title': 'Page not found · GitHub Pages', 'language': 'No language found.'}, page_content='Page not found · GitHub Pages\\n\\n\\n\\n\\n404\\nFile not found\\n\\n        The site configured at this address does not\\n        contain the requested file.\\n      \\n\\n        If this is your site, make sure that the filename case matches the URL\\n        as well as any file permissions.\\n        For root URLs (like http://example.com/) you must provide an\\n        index.html file.\\n      \\n\\nRead the full documentation\\n        for more information about using GitHub Pages.\\n      \\n\\nGitHub Status —\\n        @githubstatus')]"
      ]
     },
     "execution_count": 50,
     "metadata": {},
     "output_type": "execute_result"
    }
   ],
   "source": [
    "## text split into chunks\n",
    "from langchain_text_splitters import RecursiveCharacterTextSplitter\n",
    "split = RecursiveCharacterTextSplitter(chunk_size=1000,chunk_overlap=200)\n",
    "documents = split.split_documents(docs)\n",
    "documents"
   ]
  },
  {
   "cell_type": "code",
   "execution_count": 30,
   "metadata": {},
   "outputs": [],
   "source": [
    "## import Ollama Embeddings\n",
    "\n",
    "from langchain_community.embeddings import OllamaEmbeddings\n",
    "\n",
    "embeddings = (OllamaEmbeddings(model='gemma:2b'))"
   ]
  },
  {
   "cell_type": "code",
   "execution_count": 31,
   "metadata": {},
   "outputs": [],
   "source": [
    "from langchain_community.vectorstores import FAISS\n",
    "\n",
    "vc_store = FAISS.from_documents(documents,embeddings)"
   ]
  },
  {
   "cell_type": "code",
   "execution_count": 32,
   "metadata": {},
   "outputs": [
    {
     "data": {
      "text/plain": [
       "[Document(metadata={'source': 'https://colah.github.io/posts/2015-08-Understanding-LSTMs/', 'title': \"Understanding LSTM Networks -- colah's blog\", 'language': 'en'}, page_content='In theory, RNNs are absolutely capable of handling such “long-term dependencies.” A human could carefully pick parameters for them to solve toy problems of this form. Sadly, in practice, RNNs don’t seem to be able to learn them. The problem was explored in depth by Hochreiter (1991) [German] and Bengio, et al. (1994), who found some pretty fundamental reasons why it might be difficult.\\nThankfully, LSTMs don’t have this problem!\\nLSTM Networks\\nLong Short Term Memory networks – usually just called “LSTMs” – are a special kind of RNN, capable of learning long-term dependencies. They were introduced by Hochreiter & Schmidhuber (1997), and were refined and popularized by many people in following work.1 They work tremendously well on a large variety of problems, and are now widely used.\\nLSTMs are explicitly designed to avoid the long-term dependency problem. Remembering information for long periods of time is practically their default behavior, not something they struggle to learn!'),\n",
       " Document(metadata={'source': 'https://colah.github.io/posts/2015-08-Understanding-LSTMs/', 'title': \"Understanding LSTM Networks -- colah's blog\", 'language': 'en'}, page_content='The Problem of Long-Term Dependencies\\nOne of the appeals of RNNs is the idea that they might be able to connect previous information to the present task, such as using previous video frames might inform the understanding of the present frame. If RNNs could do this, they’d be extremely useful. But can they? It depends.\\nSometimes, we only need to look at recent information to perform the present task. For example, consider a language model trying to predict the next word based on the previous ones. If we are trying to predict the last word in “the clouds are in the sky,” we don’t need any further context – it’s pretty obvious the next word is going to be sky. In such cases, where the gap between the relevant information and the place that it’s needed is small, RNNs can learn to use the past information.'),\n",
       " Document(metadata={'source': 'https://colah.github.io/posts/2015-08-Understanding-LSTMs/', 'title': \"Understanding LSTM Networks -- colah's blog\", 'language': 'en'}, page_content='But there are also cases where we need more context. Consider trying to predict the last word in the text “I grew up in France… I speak fluent French.” Recent information suggests that the next word is probably the name of a language, but if we want to narrow down which language, we need the context of France, from further back. It’s entirely possible for the gap between the relevant information and the point where it is needed to become very large.\\nUnfortunately, as that gap grows, RNNs become unable to learn to connect the information.'),\n",
       " Document(metadata={'source': 'https://colah.github.io/posts/2015-08-Understanding-LSTMs/', 'title': \"Understanding LSTM Networks -- colah's blog\", 'language': 'en'}, page_content='A slightly more dramatic variation on the LSTM is the Gated Recurrent Unit, or GRU, introduced by Cho, et al. (2014). It combines the forget and input gates into a single “update gate.” It also merges the cell state and hidden state, and makes some other changes. The resulting model is simpler than standard LSTM models, and has been growing increasingly popular.')]"
      ]
     },
     "execution_count": 32,
     "metadata": {},
     "output_type": "execute_result"
    }
   ],
   "source": [
    "## similarity from vectorstore based on embeddings\n",
    "\n",
    "query = \"Disadvantage of RNN compared to LSTM are as follows :\"\n",
    "vc_store.similarity_search(query)"
   ]
  },
  {
   "cell_type": "code",
   "execution_count": 12,
   "metadata": {},
   "outputs": [],
   "source": [
    "from langchain_ollama.llms import OllamaLLM\n",
    "\n",
    "llm = OllamaLLM(model=\"gemma:2b\")"
   ]
  },
  {
   "cell_type": "code",
   "execution_count": 13,
   "metadata": {},
   "outputs": [],
   "source": [
    "## Retrieval Chain, Document chain\n",
    "\n",
    "from langchain.chains.combine_documents import create_stuff_documents_chain\n",
    "from langchain_core.prompts import ChatPromptTemplate"
   ]
  },
  {
   "cell_type": "code",
   "execution_count": 14,
   "metadata": {},
   "outputs": [],
   "source": [
    "## Prompt to interact with LLM\n",
    "prompt1=ChatPromptTemplate.from_template(\n",
    "\"\"\"Question: {question}\n",
    "\n",
    "Answer: Let's think step by step.\"\"\"\n",
    ")"
   ]
  },
  {
   "cell_type": "code",
   "execution_count": 15,
   "metadata": {},
   "outputs": [],
   "source": [
    "chain = prompt1 | llm"
   ]
  },
  {
   "cell_type": "code",
   "execution_count": 16,
   "metadata": {},
   "outputs": [
    {
     "data": {
      "text/plain": [
       "\"Sure, here's a step-by-step analysis of the disadvantages of RNN compared to LSTM:\\n\\n**1. Memory Efficiency:**\\n- LSTM has a longer memory span due to its ability to access previous inputs.\\n- RNNs have a limited memory capacity, which can lead to issues when dealing with long sequences.\\n\\n**2. Gradient Vanishing/Exploding:**\\n- LSTMs are less susceptible to gradient vanishing or exploding compared to RNNs.\\n- RNNs can suffer from these issues when dealing with sequential data, where the earlier parts of the sequence are less relevant than the later parts.\\n\\n**3. Training Complexity:**\\n- LSTMs are more complex to train than RNNs due to their attention mechanism.\\n- The attention mechanism requires calculating the dot product between all pairs of input and output sequences, which can be computationally expensive.\\n\\n**4. Limited Attention Mechanism:**\\n- RNNs have a simpler attention mechanism compared to LSTMs.\\n- The attention weights in RNNs are calculated based on the dot product of the input and output sequences, which can be less accurate than the attention weights in LSTMs.\\n\\n**5. Difficulty in Real-Time Applications:**\\n- LSTMs are more suitable for real-time applications due to their faster training and inference speeds.\\n- RNNs may require significant computational resources to achieve real-time performance.\\n\\n**6. Limited Applicability to All Problems:**\\n- RNNs may not be suitable for all types of tasks.\\n- For tasks with simple sequential dependencies, such as language modeling, LSTMs may be a better choice.\\n\\n**7. High Computational Cost:**\\n- Training and inference of LSTMs can be computationally expensive, especially for long sequences.\\n- This can make them unsuitable for applications where performance is critical.\""
      ]
     },
     "execution_count": 16,
     "metadata": {},
     "output_type": "execute_result"
    }
   ],
   "source": [
    "chain.invoke({\"question\":query})"
   ]
  },
  {
   "cell_type": "code",
   "execution_count": 17,
   "metadata": {},
   "outputs": [],
   "source": [
    "from langchain.chains import create_retrieval_chain"
   ]
  },
  {
   "cell_type": "code",
   "execution_count": 23,
   "metadata": {},
   "outputs": [],
   "source": [
    "prompt2 = ChatPromptTemplate.from_template(\n",
    "\"\"\"\n",
    "Answer the following question based on the provided context. You can use outside resource but try to answer with respect to the given context. If you use other resource then mention it as well:\n",
    "<context>\n",
    "{context}\n",
    "</context>\n",
    "\"\"\"\n",
    ")\n",
    "chain2 = create_stuff_documents_chain(llm,prompt2)\n",
    "retriever2 = vc_store.as_retriever()\n",
    "retrieval_chain2 = create_retrieval_chain(retriever2,chain2)"
   ]
  },
  {
   "cell_type": "code",
   "execution_count": 25,
   "metadata": {},
   "outputs": [
    {
     "data": {
      "text/plain": [
       "'According to the context, RNNs struggle to learn long-term dependencies due to the lack of a mechanism that explicitly allows them to remember past information. LSTMs are specifically designed to avoid this problem by explicitly remembering past information in the cell state.'"
      ]
     },
     "execution_count": 25,
     "metadata": {},
     "output_type": "execute_result"
    }
   ],
   "source": [
    "result = retrieval_chain2.invoke({\"input\":query})\n",
    "result['answer']"
   ]
  },
  {
   "cell_type": "code",
   "execution_count": 26,
   "metadata": {},
   "outputs": [
    {
     "data": {
      "text/plain": [
       "[Document(metadata={'source': 'https://colah.github.io/posts/2015-08-Understanding-LSTMs/', 'title': \"Understanding LSTM Networks -- colah's blog\", 'language': 'en'}, page_content='In theory, RNNs are absolutely capable of handling such “long-term dependencies.” A human could carefully pick parameters for them to solve toy problems of this form. Sadly, in practice, RNNs don’t seem to be able to learn them. The problem was explored in depth by Hochreiter (1991) [German] and Bengio, et al. (1994), who found some pretty fundamental reasons why it might be difficult.\\nThankfully, LSTMs don’t have this problem!\\nLSTM Networks\\nLong Short Term Memory networks – usually just called “LSTMs” – are a special kind of RNN, capable of learning long-term dependencies. They were introduced by Hochreiter & Schmidhuber (1997), and were refined and popularized by many people in following work.1 They work tremendously well on a large variety of problems, and are now widely used.\\nLSTMs are explicitly designed to avoid the long-term dependency problem. Remembering information for long periods of time is practically their default behavior, not something they struggle to learn!'),\n",
       " Document(metadata={'source': 'https://colah.github.io/posts/2015-08-Understanding-LSTMs/', 'title': \"Understanding LSTM Networks -- colah's blog\", 'language': 'en'}, page_content='The Problem of Long-Term Dependencies\\nOne of the appeals of RNNs is the idea that they might be able to connect previous information to the present task, such as using previous video frames might inform the understanding of the present frame. If RNNs could do this, they’d be extremely useful. But can they? It depends.\\nSometimes, we only need to look at recent information to perform the present task. For example, consider a language model trying to predict the next word based on the previous ones. If we are trying to predict the last word in “the clouds are in the sky,” we don’t need any further context – it’s pretty obvious the next word is going to be sky. In such cases, where the gap between the relevant information and the place that it’s needed is small, RNNs can learn to use the past information.'),\n",
       " Document(metadata={'source': 'https://colah.github.io/posts/2015-08-Understanding-LSTMs/', 'title': \"Understanding LSTM Networks -- colah's blog\", 'language': 'en'}, page_content='But there are also cases where we need more context. Consider trying to predict the last word in the text “I grew up in France… I speak fluent French.” Recent information suggests that the next word is probably the name of a language, but if we want to narrow down which language, we need the context of France, from further back. It’s entirely possible for the gap between the relevant information and the point where it is needed to become very large.\\nUnfortunately, as that gap grows, RNNs become unable to learn to connect the information.'),\n",
       " Document(metadata={'source': 'https://colah.github.io/posts/2015-08-Understanding-LSTMs/', 'title': \"Understanding LSTM Networks -- colah's blog\", 'language': 'en'}, page_content='A slightly more dramatic variation on the LSTM is the Gated Recurrent Unit, or GRU, introduced by Cho, et al. (2014). It combines the forget and input gates into a single “update gate.” It also merges the cell state and hidden state, and makes some other changes. The resulting model is simpler than standard LSTM models, and has been growing increasingly popular.')]"
      ]
     },
     "execution_count": 26,
     "metadata": {},
     "output_type": "execute_result"
    }
   ],
   "source": [
    "# points from text that helped to arrive at the conclusion\n",
    "result['context']"
   ]
  },
  {
   "cell_type": "code",
   "execution_count": null,
   "metadata": {},
   "outputs": [],
   "source": []
  }
 ],
 "metadata": {
  "kernelspec": {
   "display_name": "genai",
   "language": "python",
   "name": "python3"
  },
  "language_info": {
   "codemirror_mode": {
    "name": "ipython",
    "version": 3
   },
   "file_extension": ".py",
   "mimetype": "text/x-python",
   "name": "python",
   "nbconvert_exporter": "python",
   "pygments_lexer": "ipython3",
   "version": "3.10.16"
  }
 },
 "nbformat": 4,
 "nbformat_minor": 2
}
